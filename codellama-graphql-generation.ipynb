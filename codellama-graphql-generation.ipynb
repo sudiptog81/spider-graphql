{
 "cells": [
  {
   "cell_type": "markdown",
   "id": "0a2bd5a8-5d18-444b-a33c-5ee05d5b6fb7",
   "metadata": {},
   "source": [
    "## CodeLLaMA 34B Instruct GraphQL Generation Performance"
   ]
  },
  {
   "cell_type": "code",
   "execution_count": 2,
   "id": "9a234936-f16f-4e06-9995-7aeb113c3745",
   "metadata": {},
   "outputs": [],
   "source": [
    "API_KEY = \"8c81391756ffaca12a60295b0130ea6377361dfe7b25169beea5ff22363f7d0b\""
   ]
  },
  {
   "cell_type": "code",
   "execution_count": 13,
   "id": "da7c9c51-511e-4168-a76a-7c617b2163af",
   "metadata": {},
   "outputs": [
    {
     "data": {
      "text/plain": [
       "'\\n    {\\n        students {\\n            name\\n        }\\n    }'"
      ]
     },
     "execution_count": 13,
     "metadata": {},
     "output_type": "execute_result"
    }
   ],
   "source": [
    "import requests\n",
    "\n",
    "url = \"https://api.together.xyz/inference\"\n",
    "\n",
    "payload = {\n",
    "    \"model\": \"codellama/CodeLlama-34b-Instruct-hf\",\n",
    "    \"prompt\": \"\"\"Write a GraphQL Query for fetching names of all students from the given schema. Provide only the GraphQL query in the output.\n",
    "    Schema: type student {\n",
    "        id: ID!\n",
    "        name: String\n",
    "        class: String\n",
    "        city: String\n",
    "        phone: String\n",
    "    }\n",
    "\n",
    "    GraphQL Query: \"\"\",\n",
    "    \"max_tokens\": 256,\n",
    "    \"stop\": \"\\n\\n\",\n",
    "    \"temperature\": 0.7,\n",
    "    \"top_p\": 0.7,\n",
    "    \"top_k\": 10,\n",
    "    \"repetition_penalty\": 1\n",
    "}\n",
    "\n",
    "headers = {\n",
    "    \"accept\": \"application/json\",\n",
    "    \"content-type\": \"application/json\",\n",
    "    \"Authorization\": \"Bearer \" + API_KEY\n",
    "}    \n",
    "\n",
    "response = requests.post(url, json=payload, headers=headers)\n",
    "response.json()['output']['choices'][0]['text']"
   ]
  },
  {
   "cell_type": "code",
   "execution_count": 16,
   "id": "075e73ac-7a9d-4312-b349-8be6c1dac8b4",
   "metadata": {},
   "outputs": [
    {
     "data": {
      "application/vnd.jupyter.widget-view+json": {
       "model_id": "1a4ef1f47754472ead8768cfe48049d5",
       "version_major": 2,
       "version_minor": 0
      },
      "text/plain": [
       "Downloading readme:   0%|          | 0.00/5.51k [00:00<?, ?B/s]"
      ]
     },
     "metadata": {},
     "output_type": "display_data"
    },
    {
     "data": {
      "application/vnd.jupyter.widget-view+json": {
       "model_id": "0751c9594011405e97eb6d234f867d41",
       "version_major": 2,
       "version_minor": 0
      },
      "text/plain": [
       "Downloading data:   0%|          | 0.00/831k [00:00<?, ?B/s]"
      ]
     },
     "metadata": {},
     "output_type": "display_data"
    },
    {
     "data": {
      "application/vnd.jupyter.widget-view+json": {
       "model_id": "06acb87ab3f84ae6a8e7f5ad3a4e9108",
       "version_major": 2,
       "version_minor": 0
      },
      "text/plain": [
       "Downloading data:   0%|          | 0.00/126k [00:00<?, ?B/s]"
      ]
     },
     "metadata": {},
     "output_type": "display_data"
    },
    {
     "data": {
      "application/vnd.jupyter.widget-view+json": {
       "model_id": "739c627338a04d2892fdba77fe2b8007",
       "version_major": 2,
       "version_minor": 0
      },
      "text/plain": [
       "Generating train split:   0%|          | 0/7000 [00:00<?, ? examples/s]"
      ]
     },
     "metadata": {},
     "output_type": "display_data"
    },
    {
     "data": {
      "application/vnd.jupyter.widget-view+json": {
       "model_id": "793bba88bce64e56bbfed273fb1ce9cc",
       "version_major": 2,
       "version_minor": 0
      },
      "text/plain": [
       "Generating validation split:   0%|          | 0/1034 [00:00<?, ? examples/s]"
      ]
     },
     "metadata": {},
     "output_type": "display_data"
    }
   ],
   "source": [
    "from datasets import load_dataset\n",
    "\n",
    "dataset = load_dataset(\"xlangai/spider\")"
   ]
  },
  {
   "cell_type": "code",
   "execution_count": 17,
   "id": "cbe4f54a-5870-481b-8df3-87c46f5587aa",
   "metadata": {
    "scrolled": true
   },
   "outputs": [
    {
     "data": {
      "text/plain": [
       "Dataset({\n",
       "    features: ['db_id', 'query', 'question', 'query_toks', 'query_toks_no_value', 'question_toks'],\n",
       "    num_rows: 7000\n",
       "})"
      ]
     },
     "execution_count": 17,
     "metadata": {},
     "output_type": "execute_result"
    }
   ],
   "source": [
    "dataset['train']"
   ]
  },
  {
   "cell_type": "code",
   "execution_count": 22,
   "id": "c5596762-4159-4883-b6dc-4a9f5ba6bb6f",
   "metadata": {},
   "outputs": [
    {
     "data": {
      "text/html": [
       "<div>\n",
       "<style scoped>\n",
       "    .dataframe tbody tr th:only-of-type {\n",
       "        vertical-align: middle;\n",
       "    }\n",
       "\n",
       "    .dataframe tbody tr th {\n",
       "        vertical-align: top;\n",
       "    }\n",
       "\n",
       "    .dataframe thead th {\n",
       "        text-align: right;\n",
       "    }\n",
       "</style>\n",
       "<table border=\"1\" class=\"dataframe\">\n",
       "  <thead>\n",
       "    <tr style=\"text-align: right;\">\n",
       "      <th></th>\n",
       "      <th>db_id</th>\n",
       "      <th>query</th>\n",
       "      <th>question</th>\n",
       "      <th>query_toks</th>\n",
       "      <th>query_toks_no_value</th>\n",
       "      <th>question_toks</th>\n",
       "    </tr>\n",
       "  </thead>\n",
       "  <tbody>\n",
       "    <tr>\n",
       "      <th>0</th>\n",
       "      <td>department_management</td>\n",
       "      <td>SELECT count(*) FROM head WHERE age  &gt;  56</td>\n",
       "      <td>How many heads of the departments are older th...</td>\n",
       "      <td>[SELECT, count, (, *, ), FROM, head, WHERE, ag...</td>\n",
       "      <td>[select, count, (, *, ), from, head, where, ag...</td>\n",
       "      <td>[How, many, heads, of, the, departments, are, ...</td>\n",
       "    </tr>\n",
       "    <tr>\n",
       "      <th>1</th>\n",
       "      <td>department_management</td>\n",
       "      <td>SELECT name ,  born_state ,  age FROM head ORD...</td>\n",
       "      <td>List the name, born state and age of the heads...</td>\n",
       "      <td>[SELECT, name, ,, born_state, ,, age, FROM, he...</td>\n",
       "      <td>[select, name, ,, born_state, ,, age, from, he...</td>\n",
       "      <td>[List, the, name, ,, born, state, and, age, of...</td>\n",
       "    </tr>\n",
       "    <tr>\n",
       "      <th>2</th>\n",
       "      <td>department_management</td>\n",
       "      <td>SELECT creation ,  name ,  budget_in_billions ...</td>\n",
       "      <td>List the creation year, name and budget of eac...</td>\n",
       "      <td>[SELECT, creation, ,, name, ,, budget_in_billi...</td>\n",
       "      <td>[select, creation, ,, name, ,, budget_in_billi...</td>\n",
       "      <td>[List, the, creation, year, ,, name, and, budg...</td>\n",
       "    </tr>\n",
       "    <tr>\n",
       "      <th>3</th>\n",
       "      <td>department_management</td>\n",
       "      <td>SELECT max(budget_in_billions) ,  min(budget_i...</td>\n",
       "      <td>What are the maximum and minimum budget of the...</td>\n",
       "      <td>[SELECT, max, (, budget_in_billions, ), ,, min...</td>\n",
       "      <td>[select, max, (, budget_in_billions, ), ,, min...</td>\n",
       "      <td>[What, are, the, maximum, and, minimum, budget...</td>\n",
       "    </tr>\n",
       "    <tr>\n",
       "      <th>4</th>\n",
       "      <td>department_management</td>\n",
       "      <td>SELECT avg(num_employees) FROM department WHER...</td>\n",
       "      <td>What is the average number of employees of the...</td>\n",
       "      <td>[SELECT, avg, (, num_employees, ), FROM, depar...</td>\n",
       "      <td>[select, avg, (, num_employees, ), from, depar...</td>\n",
       "      <td>[What, is, the, average, number, of, employees...</td>\n",
       "    </tr>\n",
       "    <tr>\n",
       "      <th>...</th>\n",
       "      <td>...</td>\n",
       "      <td>...</td>\n",
       "      <td>...</td>\n",
       "      <td>...</td>\n",
       "      <td>...</td>\n",
       "      <td>...</td>\n",
       "    </tr>\n",
       "    <tr>\n",
       "      <th>6995</th>\n",
       "      <td>culture_company</td>\n",
       "      <td>SELECT T1.company_name FROM culture_company AS...</td>\n",
       "      <td>What are all the company names that have a boo...</td>\n",
       "      <td>[SELECT, T1.company_name, FROM, culture_compan...</td>\n",
       "      <td>[select, t1, ., company_name, from, culture_co...</td>\n",
       "      <td>[What, are, all, the, company, names, that, ha...</td>\n",
       "    </tr>\n",
       "    <tr>\n",
       "      <th>6996</th>\n",
       "      <td>culture_company</td>\n",
       "      <td>SELECT T1.title ,  T3.book_title FROM movie AS...</td>\n",
       "      <td>Show the movie titles and book titles for all ...</td>\n",
       "      <td>[SELECT, T1.title, ,, T3.book_title, FROM, mov...</td>\n",
       "      <td>[select, t1, ., title, ,, t3, ., book_title, f...</td>\n",
       "      <td>[Show, the, movie, titles, and, book, titles, ...</td>\n",
       "    </tr>\n",
       "    <tr>\n",
       "      <th>6997</th>\n",
       "      <td>culture_company</td>\n",
       "      <td>SELECT T1.title ,  T3.book_title FROM movie AS...</td>\n",
       "      <td>What are the titles of movies and books corres...</td>\n",
       "      <td>[SELECT, T1.title, ,, T3.book_title, FROM, mov...</td>\n",
       "      <td>[select, t1, ., title, ,, t3, ., book_title, f...</td>\n",
       "      <td>[What, are, the, titles, of, movies, and, book...</td>\n",
       "    </tr>\n",
       "    <tr>\n",
       "      <th>6998</th>\n",
       "      <td>culture_company</td>\n",
       "      <td>SELECT T2.company_name FROM movie AS T1 JOIN c...</td>\n",
       "      <td>Show all company names with a movie directed i...</td>\n",
       "      <td>[SELECT, T2.company_name, FROM, movie, AS, T1,...</td>\n",
       "      <td>[select, t2, ., company_name, from, movie, as,...</td>\n",
       "      <td>[Show, all, company, names, with, a, movie, di...</td>\n",
       "    </tr>\n",
       "    <tr>\n",
       "      <th>6999</th>\n",
       "      <td>culture_company</td>\n",
       "      <td>SELECT T2.company_name FROM movie AS T1 JOIN c...</td>\n",
       "      <td>What are all company names that have a corresp...</td>\n",
       "      <td>[SELECT, T2.company_name, FROM, movie, AS, T1,...</td>\n",
       "      <td>[select, t2, ., company_name, from, movie, as,...</td>\n",
       "      <td>[What, are, all, company, names, that, have, a...</td>\n",
       "    </tr>\n",
       "  </tbody>\n",
       "</table>\n",
       "<p>7000 rows × 6 columns</p>\n",
       "</div>"
      ],
      "text/plain": [
       "                      db_id  \\\n",
       "0     department_management   \n",
       "1     department_management   \n",
       "2     department_management   \n",
       "3     department_management   \n",
       "4     department_management   \n",
       "...                     ...   \n",
       "6995        culture_company   \n",
       "6996        culture_company   \n",
       "6997        culture_company   \n",
       "6998        culture_company   \n",
       "6999        culture_company   \n",
       "\n",
       "                                                  query  \\\n",
       "0            SELECT count(*) FROM head WHERE age  >  56   \n",
       "1     SELECT name ,  born_state ,  age FROM head ORD...   \n",
       "2     SELECT creation ,  name ,  budget_in_billions ...   \n",
       "3     SELECT max(budget_in_billions) ,  min(budget_i...   \n",
       "4     SELECT avg(num_employees) FROM department WHER...   \n",
       "...                                                 ...   \n",
       "6995  SELECT T1.company_name FROM culture_company AS...   \n",
       "6996  SELECT T1.title ,  T3.book_title FROM movie AS...   \n",
       "6997  SELECT T1.title ,  T3.book_title FROM movie AS...   \n",
       "6998  SELECT T2.company_name FROM movie AS T1 JOIN c...   \n",
       "6999  SELECT T2.company_name FROM movie AS T1 JOIN c...   \n",
       "\n",
       "                                               question  \\\n",
       "0     How many heads of the departments are older th...   \n",
       "1     List the name, born state and age of the heads...   \n",
       "2     List the creation year, name and budget of eac...   \n",
       "3     What are the maximum and minimum budget of the...   \n",
       "4     What is the average number of employees of the...   \n",
       "...                                                 ...   \n",
       "6995  What are all the company names that have a boo...   \n",
       "6996  Show the movie titles and book titles for all ...   \n",
       "6997  What are the titles of movies and books corres...   \n",
       "6998  Show all company names with a movie directed i...   \n",
       "6999  What are all company names that have a corresp...   \n",
       "\n",
       "                                             query_toks  \\\n",
       "0     [SELECT, count, (, *, ), FROM, head, WHERE, ag...   \n",
       "1     [SELECT, name, ,, born_state, ,, age, FROM, he...   \n",
       "2     [SELECT, creation, ,, name, ,, budget_in_billi...   \n",
       "3     [SELECT, max, (, budget_in_billions, ), ,, min...   \n",
       "4     [SELECT, avg, (, num_employees, ), FROM, depar...   \n",
       "...                                                 ...   \n",
       "6995  [SELECT, T1.company_name, FROM, culture_compan...   \n",
       "6996  [SELECT, T1.title, ,, T3.book_title, FROM, mov...   \n",
       "6997  [SELECT, T1.title, ,, T3.book_title, FROM, mov...   \n",
       "6998  [SELECT, T2.company_name, FROM, movie, AS, T1,...   \n",
       "6999  [SELECT, T2.company_name, FROM, movie, AS, T1,...   \n",
       "\n",
       "                                    query_toks_no_value  \\\n",
       "0     [select, count, (, *, ), from, head, where, ag...   \n",
       "1     [select, name, ,, born_state, ,, age, from, he...   \n",
       "2     [select, creation, ,, name, ,, budget_in_billi...   \n",
       "3     [select, max, (, budget_in_billions, ), ,, min...   \n",
       "4     [select, avg, (, num_employees, ), from, depar...   \n",
       "...                                                 ...   \n",
       "6995  [select, t1, ., company_name, from, culture_co...   \n",
       "6996  [select, t1, ., title, ,, t3, ., book_title, f...   \n",
       "6997  [select, t1, ., title, ,, t3, ., book_title, f...   \n",
       "6998  [select, t2, ., company_name, from, movie, as,...   \n",
       "6999  [select, t2, ., company_name, from, movie, as,...   \n",
       "\n",
       "                                          question_toks  \n",
       "0     [How, many, heads, of, the, departments, are, ...  \n",
       "1     [List, the, name, ,, born, state, and, age, of...  \n",
       "2     [List, the, creation, year, ,, name, and, budg...  \n",
       "3     [What, are, the, maximum, and, minimum, budget...  \n",
       "4     [What, is, the, average, number, of, employees...  \n",
       "...                                                 ...  \n",
       "6995  [What, are, all, the, company, names, that, ha...  \n",
       "6996  [Show, the, movie, titles, and, book, titles, ...  \n",
       "6997  [What, are, the, titles, of, movies, and, book...  \n",
       "6998  [Show, all, company, names, with, a, movie, di...  \n",
       "6999  [What, are, all, company, names, that, have, a...  \n",
       "\n",
       "[7000 rows x 6 columns]"
      ]
     },
     "execution_count": 22,
     "metadata": {},
     "output_type": "execute_result"
    }
   ],
   "source": [
    "train_df = dataset['train'].to_pandas()\n",
    "train_df"
   ]
  },
  {
   "cell_type": "code",
   "execution_count": 51,
   "id": "a485f55c-a258-4fac-ab15-f9f578ca0e9b",
   "metadata": {},
   "outputs": [],
   "source": [
    "def get_prompt(db, question, schema):\n",
    "    return \"\"\"Write a GraphQL Query from the given GraphQL schema based on the second question. I have provided one example query for the first question. Do not use any field that is not in the schema. Provide only the GraphQL query in the output.\n",
    "Example Database: academic\n",
    "Example Schema: ```type academic_student {\n",
    "    id: ID!\n",
    "    name: String\n",
    "    class: String\n",
    "    city: String\n",
    "    phone: String\n",
    "}```\n",
    "Example Question: List the names of all students.\n",
    "Example GraphQL Query: ```query {\n",
    "    academic_student {\n",
    "        name\n",
    "    }\n",
    "}```\n",
    "\n",
    "Database: \"\"\" + db + \"\"\"\n",
    "Schema: ```\"\"\" + schema + \"\"\"```\n",
    "Question:  \"\"\" + question + \"\"\"\n",
    "GraphQL Query: \"\"\""
   ]
  },
  {
   "cell_type": "code",
   "execution_count": 52,
   "id": "ee6657cb-3ca1-465d-830f-d4ed3c5e2a91",
   "metadata": {},
   "outputs": [
    {
     "name": "stdout",
     "output_type": "stream",
     "text": [
      "Write a GraphQL Query from the given GraphQL schema based on the second question. I have provided one example query for the first question. Do not use any field that is not in the schema. Provide only the GraphQL query in the output.\n",
      "Example Database: academic\n",
      "Example Schema: ```type academic_student {\n",
      "    id: ID!\n",
      "    name: String\n",
      "    class: String\n",
      "    city: String\n",
      "    phone: String\n",
      "}```\n",
      "Example Question: List the names of all students.\n",
      "Example GraphQL Query: ```query {\n",
      "    academic_student {\n",
      "        name\n",
      "    }\n",
      "}```\n",
      "\n",
      "Database: department_management\n",
      "Schema: ```type department_management_department {\n",
      "    budget_in_billions: Float\n",
      "    creation: String\n",
      "    department_id: Int\n",
      "    name: String\n",
      "    num_employees: Float\n",
      "    ranking: Int\n",
      "}```\n",
      "Question:  List the ranking of all departments.\n",
      "GraphQL Query: \n"
     ]
    }
   ],
   "source": [
    "eg = get_prompt(\"department_management\", \"List the ranking of all departments.\", \"\"\"type department_management_department {\n",
    "    budget_in_billions: Float\n",
    "    creation: String\n",
    "    department_id: Int\n",
    "    name: String\n",
    "    num_employees: Float\n",
    "    ranking: Int\n",
    "}\"\"\")\n",
    "print(eg)"
   ]
  },
  {
   "cell_type": "code",
   "execution_count": 57,
   "id": "60c53588-65b2-4953-965c-72bdf712f28c",
   "metadata": {},
   "outputs": [],
   "source": [
    "import requests\n",
    "\n",
    "def run_inference(prompt):\n",
    "    url = \"https://api.together.xyz/inference\"\n",
    "    \n",
    "    payload = {\n",
    "        \"model\": \"codellama/CodeLlama-34b-Instruct-hf\",\n",
    "        \"prompt\": prompt,\n",
    "        \"max_tokens\": 256,\n",
    "        \"stop\": \"\\n\\n\",\n",
    "        \"temperature\": 0.1,\n",
    "        \"top_p\": 0.7,\n",
    "        \"top_k\": 10,\n",
    "        \"repetition_penalty\": 1\n",
    "    }\n",
    "    \n",
    "    headers = {\n",
    "        \"accept\": \"application/json\",\n",
    "        \"content-type\": \"application/json\",\n",
    "        \"Authorization\": \"Bearer \" + API_KEY\n",
    "    }    \n",
    "    \n",
    "    response = requests.post(url, json=payload, headers=headers)\n",
    "    return response.json()['output']['choices'][0]['text']"
   ]
  },
  {
   "cell_type": "code",
   "execution_count": 58,
   "id": "5c4b96cc-838a-4558-820b-140d9908b615",
   "metadata": {},
   "outputs": [
    {
     "name": "stdout",
     "output_type": "stream",
     "text": [
      "\n",
      "```query {\n",
      "    department_management_department {\n",
      "        ranking\n",
      "    }\n",
      "}```\n"
     ]
    }
   ],
   "source": [
    "x = run_inference(eg)\n",
    "print(x)"
   ]
  },
  {
   "cell_type": "code",
   "execution_count": null,
   "id": "8afbaf08-c18a-4add-9e9e-b826fe503bc8",
   "metadata": {},
   "outputs": [],
   "source": []
  }
 ],
 "metadata": {
  "kernelspec": {
   "display_name": "Python 3 (ipykernel)",
   "language": "python",
   "name": "python3"
  },
  "language_info": {
   "codemirror_mode": {
    "name": "ipython",
    "version": 3
   },
   "file_extension": ".py",
   "mimetype": "text/x-python",
   "name": "python",
   "nbconvert_exporter": "python",
   "pygments_lexer": "ipython3",
   "version": "3.10.13"
  }
 },
 "nbformat": 4,
 "nbformat_minor": 5
}
